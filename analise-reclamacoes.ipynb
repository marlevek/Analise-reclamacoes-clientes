{
 "cells": [
  {
   "cell_type": "markdown",
   "metadata": {},
   "source": [
    "Analisando reclamações de clientes de uma empresa fictícia usando o gráfico de pareto.<br>\n",
    "O objetivo é mostrar as 3 maiores reclamações para a empresa e assim ela pode tomar algumas ações a fim de diminuí-las."
   ]
  },
  {
   "cell_type": "markdown",
   "metadata": {},
   "source": [
    "1. Importando as bibliotecas"
   ]
  },
  {
   "cell_type": "code",
   "execution_count": 1,
   "metadata": {},
   "outputs": [],
   "source": [
    "import pandas as pd\n",
    "import matplotlib.pyplot as plt\n",
    "from matplotlib.ticker import PercentFormatter"
   ]
  },
  {
   "cell_type": "markdown",
   "metadata": {},
   "source": [
    "2. Criando dados de exemplo"
   ]
  },
  {
   "cell_type": "code",
   "execution_count": 2,
   "metadata": {},
   "outputs": [],
   "source": [
    "df = pd.DataFrame({'contagem': [43, 20, 174, 5, 2, 1, 1, 0]})\n",
    "df.index = ['Produto com defeito', 'Produto errado', 'Tempo de entrega', 'Horário de entrega', 'Mau atendimento', 'Valor errado', 'Não serve', 'Desistência']"
   ]
  },
  {
   "cell_type": "markdown",
   "metadata": {},
   "source": [
    "3. Mostrando o DataFrame, em ordem de reclamação e criando uma nova coluna com o percentual"
   ]
  },
  {
   "cell_type": "code",
   "execution_count": 3,
   "metadata": {},
   "outputs": [
    {
     "data": {
      "text/html": [
       "<div>\n",
       "<style scoped>\n",
       "    .dataframe tbody tr th:only-of-type {\n",
       "        vertical-align: middle;\n",
       "    }\n",
       "\n",
       "    .dataframe tbody tr th {\n",
       "        vertical-align: top;\n",
       "    }\n",
       "\n",
       "    .dataframe thead th {\n",
       "        text-align: right;\n",
       "    }\n",
       "</style>\n",
       "<table border=\"1\" class=\"dataframe\">\n",
       "  <thead>\n",
       "    <tr style=\"text-align: right;\">\n",
       "      <th></th>\n",
       "      <th>contagem</th>\n",
       "      <th>pctacum</th>\n",
       "    </tr>\n",
       "  </thead>\n",
       "  <tbody>\n",
       "    <tr>\n",
       "      <th>Tempo de entrega</th>\n",
       "      <td>174</td>\n",
       "      <td>70.731707</td>\n",
       "    </tr>\n",
       "    <tr>\n",
       "      <th>Produto com defeito</th>\n",
       "      <td>43</td>\n",
       "      <td>88.211382</td>\n",
       "    </tr>\n",
       "    <tr>\n",
       "      <th>Produto errado</th>\n",
       "      <td>20</td>\n",
       "      <td>96.341463</td>\n",
       "    </tr>\n",
       "    <tr>\n",
       "      <th>Horário de entrega</th>\n",
       "      <td>5</td>\n",
       "      <td>98.373984</td>\n",
       "    </tr>\n",
       "    <tr>\n",
       "      <th>Mau atendimento</th>\n",
       "      <td>2</td>\n",
       "      <td>99.186992</td>\n",
       "    </tr>\n",
       "    <tr>\n",
       "      <th>Valor errado</th>\n",
       "      <td>1</td>\n",
       "      <td>99.593496</td>\n",
       "    </tr>\n",
       "    <tr>\n",
       "      <th>Não serve</th>\n",
       "      <td>1</td>\n",
       "      <td>100.000000</td>\n",
       "    </tr>\n",
       "    <tr>\n",
       "      <th>Desistência</th>\n",
       "      <td>0</td>\n",
       "      <td>100.000000</td>\n",
       "    </tr>\n",
       "  </tbody>\n",
       "</table>\n",
       "</div>"
      ],
      "text/plain": [
       "                     contagem     pctacum\n",
       "Tempo de entrega          174   70.731707\n",
       "Produto com defeito        43   88.211382\n",
       "Produto errado             20   96.341463\n",
       "Horário de entrega          5   98.373984\n",
       "Mau atendimento             2   99.186992\n",
       "Valor errado                1   99.593496\n",
       "Não serve                   1  100.000000\n",
       "Desistência                 0  100.000000"
      ]
     },
     "execution_count": 3,
     "metadata": {},
     "output_type": "execute_result"
    }
   ],
   "source": [
    "df = df.sort_values(by='contagem', ascending=False)\n",
    "df['pctacum'] = df['contagem'].cumsum() / df['contagem'].sum() * 100\n",
    "df"
   ]
  },
  {
   "cell_type": "markdown",
   "metadata": {},
   "source": [
    "4. Criando gráfico para mostrar as reclamações e respectivas porcentagens"
   ]
  },
  {
   "cell_type": "code",
   "execution_count": 4,
   "metadata": {},
   "outputs": [
    {
     "data": {
      "image/png": "[encoded data removed]",
      "text/plain": [
       "<Figure size 432x288 with 2 Axes>"
      ]
     },
     "metadata": {
      "needs_background": "light"
     },
     "output_type": "display_data"
    }
   ],
   "source": [
    "fig, ax = plt.subplots()\n",
    "\n",
    "ax.bar(df.index, df['contagem'])\n",
    "ax2 = ax.twinx()\n",
    "ax2.plot(df.index, df['pctacum'], color='r', marker='o')\n",
    "ax2.yaxis.set_major_formatter(PercentFormatter())\n",
    "\n",
    "ax.tick_params(axis='x', rotation=30)\n",
    "ax2.tick_params(axis='y', color='r')\n",
    "\n",
    "plt.show()"
   ]
  },
  {
   "cell_type": "markdown",
   "metadata": {},
   "source": [
    "Esse gráfico mostra que o tempo de entrega, o produto com defeito e o produto errado somados resultam em 95% das reclamações dos clientes.<br>Dessa forma, a empresa pode concentrar suas ações nessas três categorias de reclamação para diminuir aumentar a qualidade no serviço/produto e diminuir as reclamações dos seus clientes."
   ]
  }
 ],
 "metadata": {
  "kernelspec": {
   "display_name": "Python 3.10.1 64-bit",
   "language": "python",
   "name": "python3"
  },
  "language_info": {
   "codemirror_mode": {
    "name": "ipython",
    "version": 3
   },
   "file_extension": ".py",
   "mimetype": "text/x-python",
   "name": "python",
   "nbconvert_exporter": "python",
   "pygments_lexer": "ipython3",
   "version": "3.10.1"
  },
  "orig_nbformat": 4,
  "vscode": {
   "interpreter": {
    "hash": "92e90bd6c5a94ac116b32daed143846700409151323ad0aa8c589766ff7ac504"
   }
  }
 },
 "nbformat": 4,
 "nbformat_minor": 2
}
